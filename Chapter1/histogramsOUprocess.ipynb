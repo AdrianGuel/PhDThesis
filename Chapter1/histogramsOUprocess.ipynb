{
  "cells": [
    {
      "cell_type": "markdown",
      "metadata": {
        "id": "view-in-github",
        "colab_type": "text"
      },
      "source": [
        "<a href=\"https://colab.research.google.com/github/AdrianGuel/PhDThesis/blob/main/Chapter1/histogramsOUprocess.ipynb\" target=\"_parent\"><img src=\"https://colab.research.google.com/assets/colab-badge.svg\" alt=\"Open In Colab\"/></a>"
      ]
    },
    {
      "cell_type": "code",
      "execution_count": 1,
      "metadata": {
        "id": "EtH7Alv7h3ZK",
        "colab": {
          "base_uri": "https://localhost:8080/"
        },
        "outputId": "e108b20e-9759-4a6e-af9a-1d04370a0c0c"
      },
      "outputs": [
        {
          "output_type": "stream",
          "name": "stdout",
          "text": [
            "Looking in indexes: https://pypi.org/simple, https://us-python.pkg.dev/colab-wheels/public/simple/\n",
            "Collecting torchsde\n",
            "  Downloading torchsde-0.2.5-py3-none-any.whl (59 kB)\n",
            "\u001b[K     |████████████████████████████████| 59 kB 5.8 MB/s \n",
            "\u001b[?25hRequirement already satisfied: numpy>=1.19.* in /usr/local/lib/python3.7/dist-packages (from torchsde) (1.21.6)\n",
            "Collecting boltons>=20.2.1\n",
            "  Downloading boltons-21.0.0-py2.py3-none-any.whl (193 kB)\n",
            "\u001b[K     |████████████████████████████████| 193 kB 27.0 MB/s \n",
            "\u001b[?25hRequirement already satisfied: torch>=1.6.0 in /usr/local/lib/python3.7/dist-packages (from torchsde) (1.12.1+cu113)\n",
            "Collecting trampoline>=0.1.2\n",
            "  Downloading trampoline-0.1.2-py3-none-any.whl (5.2 kB)\n",
            "Requirement already satisfied: scipy>=1.5 in /usr/local/lib/python3.7/dist-packages (from torchsde) (1.7.3)\n",
            "Requirement already satisfied: typing-extensions in /usr/local/lib/python3.7/dist-packages (from torch>=1.6.0->torchsde) (4.1.1)\n",
            "Installing collected packages: trampoline, boltons, torchsde\n",
            "Successfully installed boltons-21.0.0 torchsde-0.2.5 trampoline-0.1.2\n"
          ]
        }
      ],
      "source": [
        "!pip install torchsde"
      ]
    },
    {
      "cell_type": "code",
      "execution_count": 2,
      "metadata": {
        "id": "Qi3tu1WZAdO_",
        "colab": {
          "base_uri": "https://localhost:8080/"
        },
        "outputId": "6a40f638-f5f0-41cc-f29e-49ee5974f4a7"
      },
      "outputs": [
        {
          "output_type": "stream",
          "name": "stdout",
          "text": [
            "Looking in indexes: https://pypi.org/simple, https://us-python.pkg.dev/colab-wheels/public/simple/\n",
            "Collecting KDEpy\n",
            "  Downloading KDEpy-1.1.0-cp37-cp37m-manylinux_2_17_x86_64.manylinux2014_x86_64.whl (420 kB)\n",
            "\u001b[K     |████████████████████████████████| 420 kB 14.1 MB/s \n",
            "\u001b[?25hRequirement already satisfied: numpy>=1.14.2 in /usr/local/lib/python3.7/dist-packages (from KDEpy) (1.21.6)\n",
            "Requirement already satisfied: matplotlib>=2.2.0 in /usr/local/lib/python3.7/dist-packages (from KDEpy) (3.2.2)\n",
            "Requirement already satisfied: scipy>=1.0.1 in /usr/local/lib/python3.7/dist-packages (from KDEpy) (1.7.3)\n",
            "Requirement already satisfied: cycler>=0.10 in /usr/local/lib/python3.7/dist-packages (from matplotlib>=2.2.0->KDEpy) (0.11.0)\n",
            "Requirement already satisfied: kiwisolver>=1.0.1 in /usr/local/lib/python3.7/dist-packages (from matplotlib>=2.2.0->KDEpy) (1.4.4)\n",
            "Requirement already satisfied: pyparsing!=2.0.4,!=2.1.2,!=2.1.6,>=2.0.1 in /usr/local/lib/python3.7/dist-packages (from matplotlib>=2.2.0->KDEpy) (3.0.9)\n",
            "Requirement already satisfied: python-dateutil>=2.1 in /usr/local/lib/python3.7/dist-packages (from matplotlib>=2.2.0->KDEpy) (2.8.2)\n",
            "Requirement already satisfied: typing-extensions in /usr/local/lib/python3.7/dist-packages (from kiwisolver>=1.0.1->matplotlib>=2.2.0->KDEpy) (4.1.1)\n",
            "Requirement already satisfied: six>=1.5 in /usr/local/lib/python3.7/dist-packages (from python-dateutil>=2.1->matplotlib>=2.2.0->KDEpy) (1.15.0)\n",
            "Installing collected packages: KDEpy\n",
            "Successfully installed KDEpy-1.1.0\n"
          ]
        }
      ],
      "source": [
        "!pip install KDEpy"
      ]
    },
    {
      "cell_type": "code",
      "execution_count": 3,
      "metadata": {
        "id": "c6WV03VCjEL8"
      },
      "outputs": [],
      "source": [
        "import torch\n",
        "torch.cuda.empty_cache()\n",
        "from torch import nn\n",
        "\n",
        "%matplotlib inline\n",
        "import matplotlib.pyplot as plt\n",
        "\n",
        "import torchsde\n",
        "\n",
        "def plot(ts, samples, xlabel, ylabel, title=''):\n",
        "    ts = ts.cpu()\n",
        "    samples = samples.squeeze().t().cpu()\n",
        "    plt.figure()\n",
        "    for i, sample in enumerate(samples):\n",
        "        plt.plot(ts, sample, marker='.')\n",
        "    plt.title(title)\n",
        "    plt.xlabel(xlabel)\n",
        "    plt.ylabel(ylabel)\n",
        "    plt.legend()\n",
        "    plt.show()"
      ]
    },
    {
      "cell_type": "code",
      "execution_count": 4,
      "metadata": {
        "id": "33bhiTQjjs5A"
      },
      "outputs": [],
      "source": [
        "class SDE(nn.Module):\n",
        "\n",
        "    def __init__(self):\n",
        "        super().__init__()\n",
        "        self.thetaf = nn.Parameter(torch.tensor(3), requires_grad=False)  # Scalar parameter.\n",
        "        self.thetag = nn.Parameter(torch.tensor(0.1), requires_grad=False)\n",
        "        self.noise_type = \"diagonal\"\n",
        "        self.sde_type = \"ito\"\n",
        "    \n",
        "    def f(self, t, y):\n",
        "        return -self.thetaf * y\n",
        "    \n",
        "    def g(self,t,y):\n",
        "        return self.thetag+ torch.sigmoid(y)*0"
      ]
    },
    {
      "cell_type": "code",
      "execution_count": 9,
      "metadata": {
        "id": "5XR75RE0rtcZ"
      },
      "outputs": [],
      "source": [
        "#Theoretical results\n",
        "from scipy.integrate import odeint\n",
        "import numpy as np\n",
        "\n",
        "def Mu(y, t, gamma,Dx):\n",
        "    return -gamma*y\n",
        "\n",
        "def Sigma(y, t, gamma, D):\n",
        "    return -2*gamma*y+D**2\n",
        "\n",
        "mu0, gamma, Dx, beta0, t_size = 0.5, 3, 0.1, 0.1, 10**3\n",
        "t = np.linspace(0, 2, t_size)\n",
        "\n",
        "M = odeint(Mu, mu0, t, args=(gamma, Dx))\n",
        "S = odeint(Sigma, beta0, t, args=(gamma, Dx))\n",
        "dM=-gamma*M\n",
        "dS=-2*gamma*S+Dx**2\n",
        "G2=(dM**2)/S+0.5*(dS/S)**2\n",
        "#plt.plot(t,G2 , 'b', label=r'$\\theta(t)$')\n",
        "#plt.show()"
      ]
    },
    {
      "cell_type": "code",
      "execution_count": 10,
      "metadata": {
        "id": "LOuES5zszunX"
      },
      "outputs": [],
      "source": [
        "batch_size, state_size, t_size = 10**5, 1, 10**3\n",
        "sde = SDE()\n",
        "ts = torch.linspace(0, 2, t_size)\n",
        "#y0 = torch.full(size=(batch_size, state_size), fill_value=0.4)\n",
        "y0 = torch.normal(mu0, np.sqrt(beta0), size=(batch_size, state_size))\n",
        "#with torch.no_grad():\n",
        "#  ys = torchsde.sdeint(sde, y0, ts)  # (t_size, batch_size, state_size) = (100, 3, 1).\n",
        "#plot(ts, ys, xlabel='$t$', ylabel='$Y_t$')\n",
        "if torch.cuda.is_available():\n",
        "    gpu = torch.device('cuda')\n",
        "    sde = SDE().to(gpu)\n",
        "    ts = ts.to(gpu)\n",
        "    y0 = y0.to(gpu)\n",
        "    with torch.no_grad():\n",
        "        ys = torchsde.sdeint(sde, y0, ts, method='srk',adaptive=True)  # (100, 3, 1).\n",
        "        #ys = torchsde.sdeint(sde, y0, ts, method='srk')    \n",
        "    #plot(ts, ys, xlabel='$t$', ylabel='$Y_t$')"
      ]
    },
    {
      "cell_type": "code",
      "execution_count": 11,
      "metadata": {
        "id": "fHJXoPLyMZ9M"
      },
      "outputs": [],
      "source": [
        "from sklearn.neighbors import KernelDensity\n",
        "from KDEpy import FFTKDE\n",
        "import matplotlib.pyplot as plt\n",
        "from scipy.signal import savgol_filter\n",
        "\n",
        "samples = ys.squeeze().t().cpu()\n",
        "x_size=10**3\n",
        "p= torch.zeros([x_size, t_size])\n",
        "p=p.to(gpu)\n",
        "dp= torch.zeros([x_size, t_size])\n",
        "dp=dp.to(gpu)\n",
        "x = np.linspace(-2,2, x_size)\n",
        "#coordinates = (ts,)\n",
        "for i in range(0,t_size):\n",
        "  y = FFTKDE(kernel='gaussian', bw='silverman').fit(samples[:,i].cpu().detach().numpy()).evaluate(x)\n",
        "  p[:,i] = torch.from_numpy(y)\n",
        "  #kde = KernelDensity(kernel='gaussian', bandwidth=0.3).fit(samples[:,i].reshape(-1, 1))\n",
        "  #log_dens = kde.score_samples(x)\n",
        "  #p[:,i] = torch.from_numpy(np.exp(log_dens))\n",
        "  #p[:,i]=torch.from_numpy(stats.norm.pdf(x, M[i], np.sqrt(S[i])))\n",
        "  #kde = gaussian_kde(samples[:,i])"
      ]
    },
    {
      "cell_type": "code",
      "source": [
        "from scipy import stats\n",
        "fig = plt.figure()\n",
        "#ax = plt.axes(projection='3d')\n",
        "\n",
        "#for i in range(0,t_size):\n",
        "  #plt.plot(x,stats.norm.pdf(x, M[i], np.sqrt(S[i])),color='black')\n",
        "#  ax.plot3D(x,t[i]*np.ones(10**3),stats.norm.pdf(x, M[i], np.sqrt(S[i])), 'gray')\n",
        "for i in range(0,t_size,100):\n",
        "  plt.plot(x,p[:,i].cpu().detach().numpy(),color='black',linestyle=':')\n",
        "  plt.hist(samples[:,i].cpu().detach().numpy(),density=True,bins=15)\n",
        "  #ax.plot3D(x,t[i]*np.ones(10**3),p[:,i].cpu().detach().numpy(),color='black',linestyle='-')\n",
        "  #ax.plot\n",
        "#ax.set_xlim([-0.2, 1])  \n",
        "plt.xlim([-0.2,1.5])\n",
        "plt.xlabel(\"x\")\n",
        "plt.ylabel(\"p(x,t)\")\n",
        "plt.savefig('histograms.png')"
      ],
      "metadata": {
        "colab": {
          "base_uri": "https://localhost:8080/",
          "height": 279
        },
        "id": "XvCw0H0aq3-s",
        "outputId": "f0995599-ca3e-4fd6-bd9e-c7393477ec6e"
      },
      "execution_count": 32,
      "outputs": [
        {
          "output_type": "display_data",
          "data": {
            "text/plain": [
              "<Figure size 432x288 with 1 Axes>"
            ],
            "image/png": "[encoded data removed]"
          },
          "metadata": {
            "needs_background": "light"
          }
        }
      ]
    },
    {
      "cell_type": "code",
      "execution_count": null,
      "metadata": {
        "id": "fIchEjP5SzPc",
        "colab": {
          "base_uri": "https://localhost:8080/",
          "height": 294
        },
        "outputId": "99acfedf-af82-470e-ad6d-6169c6399870"
      },
      "outputs": [
        {
          "output_type": "display_data",
          "data": {
            "text/plain": [
              "<Figure size 432x288 with 2 Axes>"
            ],
            "image/png": "[encoded data removed]"
          },
          "metadata": {
            "needs_background": "light"
          }
        }
      ],
      "source": [
        "from scipy import integrate\n",
        "dp=torch.gradient(torch.sqrt(p),spacing = (ts,),dim=1)[0]# numerical time derivative\n",
        "xaux=torch.from_numpy(x)\n",
        "xaux=xaux.to(gpu)\n",
        "E=torch.trapezoid(4*dp**2,xaux,dim=0)\n",
        "E=torch.from_numpy(savgol_filter((ts.cpu().detach().numpy(),E.cpu().detach().numpy()),5,1, mode='nearest')[1])\n",
        "E=E.to(gpu)\n",
        "IL=torch.cumulative_trapezoid(torch.sqrt(E),ts)\n",
        "ILt=integrate.cumtrapz(np.sqrt(G2)[:,0], t,initial=0)\n",
        "\n",
        "fig, (ax1, ax2) = plt.subplots(1, 2)\n",
        "fig.suptitle('Information Length')\n",
        "ax1.plot(ts.cpu(),E.cpu())\n",
        "ax1.plot(t,G2,color=\"black\",linestyle=':')\n",
        "ax2.plot(ts[0:-1].cpu(),IL.cpu(),color=\"black\",linestyle=':')\n",
        "ax2.plot(t,ILt)\n",
        "ax1.set_xlim([0, 2])\n",
        "#ax1.set_ylim([0, 1])\n",
        "plt.show()"
      ]
    }
  ],
  "metadata": {
    "accelerator": "GPU",
    "colab": {
      "collapsed_sections": [],
      "provenance": [],
      "mount_file_id": "1ImbF2EWRNwjTS9Bc8spDOaagnZ2fZ6pv",
      "authorship_tag": "ABX9TyNRQbmq+ZNcHq/0NOpytTzo",
      "include_colab_link": true
    },
    "kernelspec": {
      "display_name": "Python 3",
      "name": "python3"
    },
    "language_info": {
      "name": "python"
    }
  },
  "nbformat": 4,
  "nbformat_minor": 0
}